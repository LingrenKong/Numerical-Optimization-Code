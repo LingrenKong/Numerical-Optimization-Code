{
 "cells": [
  {
   "cell_type": "markdown",
   "metadata": {},
   "source": [
    "# 测试文件\n",
    "\n",
    "在此对编写的各个函数进行测试，检查是否可以正常运行，首先加载base文件里面定义的各种函数。"
   ]
  },
  {
   "cell_type": "code",
   "execution_count": null,
   "metadata": {},
   "outputs": [],
   "source": [
    "%run base.py"
   ]
  },
  {
   "cell_type": "code",
   "execution_count": null,
   "metadata": {},
   "outputs": [],
   "source": [
    "from sympy import init_printing\n",
    "init_printing() "
   ]
  },
  {
   "cell_type": "markdown",
   "metadata": {},
   "source": [
    "## 基本梯度功能\n",
    "\n",
    "在此可以求梯度与Hessian矩阵，例子使用\n",
    "\n",
    "$$\n",
    "x_1^2+x_2\\times cos(x_2)\n",
    "$$"
   ]
  },
  {
   "cell_type": "code",
   "execution_count": null,
   "metadata": {},
   "outputs": [],
   "source": [
    "xvec = symbols('x1:3')  # 定义变量x1,x2\n",
    "fexpr = xvec[0]**2+xvec[1]*cos(xvec[1])\n",
    "gexpr = get_g(fexpr, xvec, display=True)\n",
    "print('-'*40)\n",
    "Gexpr = get_G(fexpr, xvec, display=True)"
   ]
  },
  {
   "cell_type": "markdown",
   "metadata": {},
   "source": [
    "## 黄金分割法测试\n",
    "\n",
    "目标函数为：\n",
    "\n",
    "$$\n",
    "1-x\\times e^{-x^2}\n",
    "$$\n",
    "\n",
    "在$\\sqrt{2}/2$取到解析解"
   ]
  },
  {
   "cell_type": "code",
   "execution_count": null,
   "metadata": {},
   "outputs": [],
   "source": [
    "%%time\n",
    "def foo(x): return 1-x*np.exp(-x**2)\n",
    "print('0.618法', \n",
    "    golden_section_search(foo, 0.01, interval=[0, 1], printout=True), \n",
    "    '解析解', np.sqrt(0.5))"
   ]
  },
  {
   "cell_type": "markdown",
   "metadata": {},
   "source": [
    "## 修正牛顿法在正定二次函数情况下的测试\n",
    "\n",
    "函数形式为：\n",
    "\n",
    "$$\n",
    "x_1^2+x_2^2+x_1\\cdot x_2\n",
    "$$\n",
    "\n",
    "在(0,0)取到最小值"
   ]
  },
  {
   "cell_type": "code",
   "execution_count": null,
   "metadata": {},
   "outputs": [],
   "source": [
    "%%time\n",
    "fexpr = xvec[0]**2+xvec[1]**2+1*xvec[0]*xvec[1]  # 正定的二次函数\n",
    "pprint(fexpr)\n",
    "x = modified_newton(fexpr, xvec, (1, 1), eps=1e-5)\n",
    "print('结果：', x)"
   ]
  },
  {
   "cell_type": "markdown",
   "metadata": {},
   "source": [
    "## 阻尼牛顿法在正定二次函数上的测试\n",
    "\n",
    "函数形式同上"
   ]
  },
  {
   "cell_type": "code",
   "execution_count": null,
   "metadata": {},
   "outputs": [],
   "source": [
    "%%time\n",
    "fexpr = xvec[0]**2+xvec[1]**2+1*xvec[0]*xvec[1]  # 正定的二次函数\n",
    "pprint(fexpr)\n",
    "x = damped_newton(fexpr, xvec, (1, 1), eps=1e-5)\n",
    "print('结果：', x)"
   ]
  }
 ],
 "metadata": {
  "kernelspec": {
   "display_name": "Python 3",
   "language": "python",
   "name": "python3"
  },
  "language_info": {
   "codemirror_mode": {
    "name": "ipython",
    "version": 3
   },
   "file_extension": ".py",
   "mimetype": "text/x-python",
   "name": "python",
   "nbconvert_exporter": "python",
   "pygments_lexer": "ipython3",
   "version": "3.8.5"
  }
 },
 "nbformat": 4,
 "nbformat_minor": 4
}
