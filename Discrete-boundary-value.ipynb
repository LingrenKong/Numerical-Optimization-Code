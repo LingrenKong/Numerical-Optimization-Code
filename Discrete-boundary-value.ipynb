{
 "cells": [
  {
   "cell_type": "code",
   "execution_count": null,
   "metadata": {},
   "outputs": [],
   "source": [
    "%run base.py"
   ]
  },
  {
   "cell_type": "code",
   "execution_count": null,
   "metadata": {},
   "outputs": [],
   "source": [
    "from sympy import init_printing\n",
    "init_printing()\n",
    "from IPython.core.interactiveshell import InteractiveShell \n",
    "InteractiveShell.ast_node_interactivity = \"all\""
   ]
  },
  {
   "cell_type": "markdown",
   "metadata": {},
   "source": [
    "# 构建DBV函数"
   ]
  },
  {
   "cell_type": "code",
   "execution_count": null,
   "metadata": {},
   "outputs": [],
   "source": [
    "m=5\n",
    "n=5\n",
    "xvec2 = symbols(f'x1:{n+1}')\n",
    "xvec2 #向量符号\n",
    "rlist = []\n",
    "h = Rational(1, n)\n",
    "tlist = [Rational(i+1, n+1) for i in range(n)]\n",
    "for i in range(m):#这个是角标，取出来就是x_i和t_i\n",
    "    if i==0:#x_1\n",
    "        rlist.append(2*xvec2[i]-0-xvec2[i+1]+h**2 *(xvec2[i]+tlist[i]+1)**3/2)\n",
    "    if i==n-1:#x_n\n",
    "        rlist.append(2*xvec2[i]-xvec2[i-1]-0+h**2 *(xvec2[i]+tlist[i]+1)**3/2)\n",
    "    else:\n",
    "        rlist.append(2*xvec2[i]-xvec2[i-1]-xvec2[i+1]+h**2 *(xvec2[i]+tlist[i]+1)**3/2)\n",
    "\n",
    "for rr in rlist:\n",
    "    rr"
   ]
  },
  {
   "cell_type": "code",
   "execution_count": null,
   "metadata": {},
   "outputs": [],
   "source": [
    "%%time\n",
    "DBV = 0\n",
    "for rx in rlist:\n",
    "    DBV += rx\n",
    "DBV"
   ]
  },
  {
   "cell_type": "code",
   "execution_count": null,
   "metadata": {},
   "outputs": [],
   "source": [
    "foo_DBV = lambdify(xvec2,DBV,'numpy')\n",
    "x00 = list(( ((i+1)/(n+1))*((i+1)/(n+1)-1) for i in range(n)))\n",
    "x00\n",
    "foo_DBV(*x00)"
   ]
  },
  {
   "cell_type": "code",
   "execution_count": null,
   "metadata": {},
   "outputs": [],
   "source": [
    "gexpr = get_g(DBV, xvec2)#循环好慢\n",
    "gexpr "
   ]
  },
  {
   "cell_type": "code",
   "execution_count": null,
   "metadata": {},
   "outputs": [],
   "source": [
    "Gexpr = get_G(DBV, xvec2)\n",
    "Gexpr"
   ]
  },
  {
   "cell_type": "code",
   "execution_count": null,
   "metadata": {},
   "outputs": [],
   "source": [
    "%%time\n",
    "xvec_DBV = symbols(f'x1:{n+1}')\n",
    "x = modified_newton(DBV, xvec_DBV, x00, eps=1e-1, maxiter=5000)\n",
    "print('x结果：', x)"
   ]
  },
  {
   "cell_type": "code",
   "execution_count": null,
   "metadata": {},
   "outputs": [],
   "source": [
    "print(\"函数值：\",foo_DBV(*x))"
   ]
  },
  {
   "cell_type": "markdown",
   "metadata": {},
   "source": [
    "> 出现特殊情况导致崩溃\n",
    "\n",
    "出现奇异情况采用负梯度\n",
    "\n",
    "x结果： [[-2.03847409e+166]\n",
    " [ 2.74493979e+000]\n",
    " [-8.32801226e-001]\n",
    " [-9.50239108e-001]\n",
    " [-1.06372814e+000]]\n",
    " \n",
    "Wall time: 36.5 ms"
   ]
  },
  {
   "cell_type": "code",
   "execution_count": null,
   "metadata": {},
   "outputs": [],
   "source": [
    "%%time\n",
    "xvec_DBV = symbols(f'x1:{n+1}')\n",
    "x = damped_newton(DBV, xvec_DBV, x00, eps=1e-1, maxiter=5000)\n",
    "print('结果：', x)"
   ]
  },
  {
   "cell_type": "code",
   "execution_count": null,
   "metadata": {},
   "outputs": [],
   "source": [
    "print(\"函数值：\",foo_DBV(*x))"
   ]
  },
  {
   "cell_type": "markdown",
   "metadata": {},
   "source": [
    "> 阻尼法对于奇异情况不含解决方案"
   ]
  },
  {
   "cell_type": "code",
   "execution_count": null,
   "metadata": {},
   "outputs": [],
   "source": [
    "%%time\n",
    "xvec_DBV = symbols(f'x1:{n+1}')\n",
    "x = quasi_newton(DBV, xvec_DBV,x00, eps=1e-1, maxiter=5000)\n",
    "print('结果：', x)"
   ]
  },
  {
   "cell_type": "code",
   "execution_count": null,
   "metadata": {},
   "outputs": [],
   "source": [
    "print(\"函数值：\",foo_DBV(*x))"
   ]
  },
  {
   "cell_type": "markdown",
   "metadata": {},
   "source": [
    "> 同样终止，但是有优化效果\n",
    "\n",
    "调用g第5001次\n",
    "调用f第240001次\n",
    "结果： [[-3.09140573]\n",
    " [ 0.77552876]\n",
    " [-0.35757999]\n",
    " [-0.36318935]\n",
    " [-0.32936904]]\n",
    "Wall time: 5.09 s"
   ]
  },
  {
   "cell_type": "code",
   "execution_count": null,
   "metadata": {},
   "outputs": [],
   "source": [
    "%%time\n",
    "xvec_DBV = symbols(f'x1:{n+1}')\n",
    "x = quasi_newton(DBV, xvec_DBV, x00, eps=1e-1, maxiter=5000,method='SR1')\n",
    "print('结果：', x)"
   ]
  },
  {
   "cell_type": "code",
   "execution_count": null,
   "metadata": {},
   "outputs": [],
   "source": [
    "print(\"函数值：\",foo_DBV(*x))"
   ]
  },
  {
   "cell_type": "markdown",
   "metadata": {},
   "source": [
    "> 同样终止，但是有优化效果\n",
    "\n",
    "调用g第5001次\n",
    "调用f第240001次\n",
    "结果： [[-3.09140158]\n",
    " [ 0.77556638]\n",
    " [-0.35759143]\n",
    " [-0.36320125]\n",
    " [-0.32938126]]\n",
    "Wall time: 4.87 s"
   ]
  },
  {
   "cell_type": "code",
   "execution_count": null,
   "metadata": {},
   "outputs": [],
   "source": [
    "%%time\n",
    "xvec_DBV = symbols(f'x1:{n+1}')\n",
    "x = quasi_newton(DBV, xvec_DBV, x00, eps=1e-1, maxiter=5000,method='DFP')\n",
    "print('结果：', x)"
   ]
  },
  {
   "cell_type": "code",
   "execution_count": null,
   "metadata": {},
   "outputs": [],
   "source": [
    "print(\"函数值：\",foo_DBV(*x))"
   ]
  },
  {
   "cell_type": "markdown",
   "metadata": {},
   "source": [
    "> 同样终止，但是有优化效果\n",
    "\n",
    "调用g第5001次\n",
    "调用f第240001次\n",
    "结果： [[-3.09140353]\n",
    " [ 0.77546422]\n",
    " [-0.35757021]\n",
    " [-0.36317677]\n",
    " [-0.32935233]]\n",
    "Wall time: 4.97 s"
   ]
  },
  {
   "cell_type": "code",
   "execution_count": null,
   "metadata": {},
   "outputs": [],
   "source": []
  }
 ],
 "metadata": {
  "interpreter": {
   "hash": "07efdcd4b820c98a756949507a4d29d7862823915ec7477944641bea022f4f62"
  },
  "kernelspec": {
   "display_name": "Python 3",
   "language": "python",
   "name": "python3"
  },
  "language_info": {
   "codemirror_mode": {
    "name": "ipython",
    "version": 3
   },
   "file_extension": ".py",
   "mimetype": "text/x-python",
   "name": "python",
   "nbconvert_exporter": "python",
   "pygments_lexer": "ipython3",
   "version": "3.8.5"
  }
 },
 "nbformat": 4,
 "nbformat_minor": 4
}
