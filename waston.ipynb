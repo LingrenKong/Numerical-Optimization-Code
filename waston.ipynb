{
 "cells": [
  {
   "cell_type": "code",
   "execution_count": null,
   "metadata": {},
   "outputs": [],
   "source": [
    "%run base.py"
   ]
  },
  {
   "cell_type": "code",
   "execution_count": null,
   "metadata": {},
   "outputs": [],
   "source": [
    "from sympy import init_printing\n",
    "init_printing()\n",
    "from IPython.core.interactiveshell import InteractiveShell \n",
    "InteractiveShell.ast_node_interactivity = \"all\""
   ]
  },
  {
   "cell_type": "markdown",
   "metadata": {},
   "source": [
    "# 构建Waston函数"
   ]
  },
  {
   "cell_type": "code",
   "execution_count": null,
   "metadata": {},
   "outputs": [],
   "source": [
    "m=31\n",
    "n=31\n",
    "xvec2 = symbols(f'x1:{n+1}')\n",
    "xvec2 #向量符号\n",
    "rlist = []\n",
    "tlist = [Rational(i+1, 29) for i in range(29)]\n",
    "for i in range(m-2):#这个是角标，取出来就是x_i和t_i\n",
    "    tt = -1\n",
    "    for j in range(2,n+1):#2<=j<=n\n",
    "        tt = tt + (j-1)*xvec2[j-1]*(tlist[i]**(j-2))\n",
    "    sum_root = 0\n",
    "    for j in range(1,n+1):#1<=j<=n\n",
    "        sum_root = sum_root + xvec2[j-1]*(tlist[i]**(j-1))\n",
    "    rlist.append(tt-sum_root**2)\n",
    "rlist.append(xvec2[0])#r30\n",
    "rlist.append(xvec2[1]-xvec2[0]**2-1)#r31\n",
    "\n",
    "\n",
    "rlist[29]\n",
    "#print('-'*40)\n",
    "rlist[30]\n",
    "#print('-'*40)\n",
    "rlist[2]"
   ]
  },
  {
   "cell_type": "code",
   "execution_count": null,
   "metadata": {},
   "outputs": [],
   "source": [
    "%%time\n",
    "Watson = 0\n",
    "for rx in rlist:\n",
    "    Watson += rx\n",
    "gexpr = get_g(Watson, xvec2)#循环好慢\n",
    "#gexpr #太长，显示功能炸了……"
   ]
  },
  {
   "cell_type": "code",
   "execution_count": null,
   "metadata": {},
   "outputs": [],
   "source": [
    "Gexpr = get_G(Watson, xvec2)\n",
    "Gexpr"
   ]
  },
  {
   "cell_type": "code",
   "execution_count": null,
   "metadata": {},
   "outputs": [],
   "source": [
    "%%time\n",
    "xvec_Waston = symbols(f'x1:{n+1}')\n",
    "x = modified_newton(Watson, xvec_Waston, list( (0 for _ in range(n)) ), eps=1e-1)\n",
    "print('结果：', x)"
   ]
  },
  {
   "cell_type": "code",
   "execution_count": null,
   "metadata": {},
   "outputs": [],
   "source": [
    "%%time\n",
    "xvec_Waston = symbols(f'x1:{n+1}')\n",
    "x = damped_newton(Watson, xvec_Waston, list( (0 for _ in range(n)) ), eps=1e-1)\n",
    "print('结果：', x)"
   ]
  }
 ],
 "metadata": {
  "interpreter": {
   "hash": "07efdcd4b820c98a756949507a4d29d7862823915ec7477944641bea022f4f62"
  },
  "kernelspec": {
   "display_name": "Python 3.8.5 64-bit ('base': conda)",
   "language": "python",
   "name": "python3"
  },
  "language_info": {
   "codemirror_mode": {
    "name": "ipython",
    "version": 3
   },
   "file_extension": ".py",
   "mimetype": "text/x-python",
   "name": "python",
   "nbconvert_exporter": "python",
   "pygments_lexer": "ipython3",
   "version": "3.8.5"
  }
 },
 "nbformat": 4,
 "nbformat_minor": 2
}
