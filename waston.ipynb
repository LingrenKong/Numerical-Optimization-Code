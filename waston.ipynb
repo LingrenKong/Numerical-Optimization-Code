{
 "cells": [
  {
   "cell_type": "code",
   "execution_count": null,
   "metadata": {},
   "outputs": [],
   "source": [
    "%run base.py"
   ]
  },
  {
   "cell_type": "code",
   "execution_count": null,
   "metadata": {},
   "outputs": [],
   "source": [
    "from sympy import init_printing\n",
    "init_printing()\n",
    "from IPython.core.interactiveshell import InteractiveShell \n",
    "InteractiveShell.ast_node_interactivity = \"all\""
   ]
  },
  {
   "cell_type": "markdown",
   "metadata": {},
   "source": [
    "# 构建Waston函数"
   ]
  },
  {
   "cell_type": "code",
   "execution_count": null,
   "metadata": {},
   "outputs": [],
   "source": [
    "m=31\n",
    "n=5\n",
    "xvec2 = symbols(f'x1:{n+1}')\n",
    "xvec2 #向量符号\n",
    "rlist = []\n",
    "tlist = [Rational(i+1, 29) for i in range(29)]\n",
    "for i in range(m-2):#这个是角标，取出来就是x_i和t_i\n",
    "    tt = -1\n",
    "    for j in range(2,n+1):#2<=j<=n\n",
    "        tt = tt + (j-1)*xvec2[j-1]*(tlist[i]**(j-2))\n",
    "    sum_root = 0\n",
    "    for j in range(1,n+1):#1<=j<=n\n",
    "        sum_root = sum_root + xvec2[j-1]*(tlist[i]**(j-1))\n",
    "    rlist.append(tt-sum_root**2)\n",
    "rlist.append(xvec2[0])#r30\n",
    "rlist.append(xvec2[1]-xvec2[0]**2-1)#r31\n",
    "\n",
    "\n",
    "rlist[29]\n",
    "#print('-'*40)\n",
    "rlist[30]\n",
    "#print('-'*40)\n",
    "rlist[2]"
   ]
  },
  {
   "cell_type": "code",
   "execution_count": null,
   "metadata": {},
   "outputs": [],
   "source": [
    "%%time\n",
    "Watson = 0\n",
    "for rx in rlist:\n",
    "    Watson += rx"
   ]
  },
  {
   "cell_type": "code",
   "execution_count": null,
   "metadata": {},
   "outputs": [],
   "source": [
    "foo_Watson = lambdify(xvec2,Watson,'numpy')\n",
    "x00 = list((0 for _ in range(n)))\n",
    "foo_Watson(*x00)"
   ]
  },
  {
   "cell_type": "code",
   "execution_count": null,
   "metadata": {},
   "outputs": [],
   "source": [
    "gexpr = get_g(Watson, xvec2)#循环好慢\n",
    "gexpr "
   ]
  },
  {
   "cell_type": "code",
   "execution_count": null,
   "metadata": {},
   "outputs": [],
   "source": [
    "Gexpr = get_G(Watson, xvec2)\n",
    "Gexpr"
   ]
  },
  {
   "cell_type": "code",
   "execution_count": null,
   "metadata": {},
   "outputs": [],
   "source": [
    "%%time\n",
    "xvec_Waston = symbols(f'x1:{n+1}')\n",
    "x = modified_newton(Watson, xvec_Waston, list(\n",
    "    (0 for _ in range(n))), eps=1e-1, maxiter=5000)\n",
    "print('x结果：', x)"
   ]
  },
  {
   "cell_type": "code",
   "execution_count": null,
   "metadata": {},
   "outputs": [],
   "source": [
    "print(\"函数值：\",foo_Watson(*x))"
   ]
  },
  {
   "cell_type": "markdown",
   "metadata": {},
   "source": [
    "> 未收敛，这是第5000次根据时间终止\n",
    "\n",
    "调用g第5001次\n",
    "调用G第5001次\n",
    "调用golden_section_search第5001次\n",
    "调用f第240001次\n",
    "\n",
    "x结果： [[-0.19317961]\n",
    " [ 1.80108395]\n",
    " [-4.16868859]\n",
    " [ 2.60267817]\n",
    " [ 0.15899185]]\n",
    " \n",
    "Wall time: 39.2 s"
   ]
  },
  {
   "cell_type": "code",
   "execution_count": null,
   "metadata": {},
   "outputs": [],
   "source": [
    "%%time\n",
    "xvec_Waston = symbols(f'x1:{n+1}')\n",
    "x = damped_newton(Watson, xvec_Waston, list(\n",
    "    (0 for _ in range(n))), eps=1e-1, maxiter=5000)\n",
    "print('结果：', x)"
   ]
  },
  {
   "cell_type": "code",
   "execution_count": null,
   "metadata": {},
   "outputs": [],
   "source": [
    "print(\"函数值：\",foo_Watson(*x))"
   ]
  },
  {
   "cell_type": "markdown",
   "metadata": {},
   "source": [
    "> 未收敛，这是第5000次根据时间终止\n",
    "\n",
    "调用g第5001次\n",
    "调用G第5001次\n",
    "调用f第240001次\n",
    "\n",
    "结果： [[-0.19317961]\n",
    " [ 1.80108395]\n",
    " [-4.16868859]\n",
    " [ 2.60267817]\n",
    " [ 0.15899185]]\n",
    " \n",
    "Wall time: 38.4 s"
   ]
  },
  {
   "cell_type": "code",
   "execution_count": null,
   "metadata": {},
   "outputs": [],
   "source": [
    "%%time\n",
    "xvec_Waston = symbols(f'x1:{n+1}')\n",
    "x = quasi_newton(Watson, xvec_Waston, list(\n",
    "    (0 for _ in range(n))), eps=1e-1, maxiter=5000)\n",
    "print('结果：', x)\n"
   ]
  },
  {
   "cell_type": "code",
   "execution_count": null,
   "metadata": {},
   "outputs": [],
   "source": [
    "print(\"函数值：\",foo_Watson(*x))"
   ]
  },
  {
   "cell_type": "markdown",
   "metadata": {},
   "source": [
    "> 同样终止，但是有优化效果\n",
    "\n",
    "调用g第5001次\n",
    "调用f第240001次\n",
    "\n",
    "结果： [[  230.44907836]\n",
    " [ 1199.24024849]\n",
    " [  334.75933616]\n",
    " [-1216.42463593]\n",
    " [-2574.41610339]]\n",
    " \n",
    "Wall time: 39.9 s"
   ]
  },
  {
   "cell_type": "code",
   "execution_count": null,
   "metadata": {},
   "outputs": [],
   "source": [
    "%%time\n",
    "xvec_Waston = symbols(f'x1:{n+1}')\n",
    "x = quasi_newton(Watson, xvec_Waston, list(\n",
    "    (0 for _ in range(n))), eps=1e-1, maxiter=5000,method='SR1')\n",
    "print('结果：', x)"
   ]
  },
  {
   "cell_type": "code",
   "execution_count": null,
   "metadata": {},
   "outputs": [],
   "source": [
    "print(\"函数值：\",foo_Watson(*x))"
   ]
  },
  {
   "cell_type": "markdown",
   "metadata": {},
   "source": [
    "> 终止，但是在收敛路上了\n",
    "\n",
    "调用g第5001次\n",
    "调用f第240001次\n",
    "\n",
    "结果： [[ -1.16905919]\n",
    " [-27.48579795]\n",
    " [-33.44933824]\n",
    " [-27.19144542]\n",
    " [-30.13516391]]\n",
    " \n",
    "Wall time: 39.3 s"
   ]
  },
  {
   "cell_type": "code",
   "execution_count": null,
   "metadata": {},
   "outputs": [],
   "source": [
    "%%time\n",
    "xvec_Waston = symbols(f'x1:{n+1}')\n",
    "x = quasi_newton(Watson, xvec_Waston, list(\n",
    "    (0 for _ in range(n))), eps=1e-1, maxiter=5000,method='DFP')\n",
    "print('结果：', x)"
   ]
  },
  {
   "cell_type": "code",
   "execution_count": null,
   "metadata": {},
   "outputs": [],
   "source": [
    "print(\"函数值：\",foo_Watson(*x))"
   ]
  },
  {
   "cell_type": "markdown",
   "metadata": {},
   "source": [
    "> 也是终止，但是收敛效果较好\n",
    "\n",
    "调用g第5001次\n",
    "调用f第240001次\n",
    "\n",
    "结果： [[  -4201.33424674]\n",
    " [ -87388.63539221]\n",
    " [ 192028.91869217]\n",
    " [  57895.86005635]\n",
    " [-164238.18553767]]\n",
    " \n",
    "Wall time: 39.4 s"
   ]
  },
  {
   "cell_type": "code",
   "execution_count": null,
   "metadata": {},
   "outputs": [],
   "source": []
  }
 ],
 "metadata": {
  "interpreter": {
   "hash": "07efdcd4b820c98a756949507a4d29d7862823915ec7477944641bea022f4f62"
  },
  "kernelspec": {
   "display_name": "Python 3",
   "language": "python",
   "name": "python3"
  },
  "language_info": {
   "codemirror_mode": {
    "name": "ipython",
    "version": 3
   },
   "file_extension": ".py",
   "mimetype": "text/x-python",
   "name": "python",
   "nbconvert_exporter": "python",
   "pygments_lexer": "ipython3",
   "version": "3.8.5"
  }
 },
 "nbformat": 4,
 "nbformat_minor": 4
}
